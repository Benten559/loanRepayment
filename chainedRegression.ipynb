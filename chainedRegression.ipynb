{
  "nbformat": 4,
  "nbformat_minor": 0,
  "metadata": {
    "colab": {
      "name": "chainedRegression",
      "provenance": [],
      "collapsed_sections": [],
      "machine_shape": "hm",
      "include_colab_link": true
    },
    "kernelspec": {
      "name": "python3",
      "display_name": "Python 3"
    }
  },
  "cells": [
    {
      "cell_type": "markdown",
      "metadata": {
        "id": "view-in-github",
        "colab_type": "text"
      },
      "source": [
        "<a href=\"https://colab.research.google.com/github/Benten559/loanRepayment/blob/main/chainedRegression.ipynb\" target=\"_parent\"><img src=\"https://colab.research.google.com/assets/colab-badge.svg\" alt=\"Open In Colab\"/></a>"
      ]
    },
    {
      "cell_type": "code",
      "metadata": {
        "id": "bu5eeRe6MoTM",
        "colab": {
          "base_uri": "https://localhost:8080/"
        },
        "outputId": "280e1a12-245f-4ef9-827f-aa2e027767b8"
      },
      "source": [
        "# Load dependencies\n",
        "import numpy as np\n",
        "import pandas as pd\n",
        "import seaborn as sns\n",
        "import matplotlib.pyplot as plt\n",
        "\n",
        "import os\n",
        "from google.colab import drive\n",
        "# Follow the link, copy and paste the code provided\n",
        "drive.mount('/content/drive/')"
      ],
      "execution_count": null,
      "outputs": [
        {
          "output_type": "stream",
          "text": [
            "Mounted at /content/drive/\n"
          ],
          "name": "stdout"
        }
      ]
    },
    {
      "cell_type": "code",
      "metadata": {
        "id": "TN52Ae8AUhh6",
        "colab": {
          "base_uri": "https://localhost:8080/"
        },
        "outputId": "0caf4fe4-d23f-4549-c999-de9d552af45c"
      },
      "source": [
        "# Load Dataframes\n",
        "# City of Fresno employee payroll data for 2018:\n",
        "CoF = pd.read_csv('/content/drive/Shared drives/csci191t-project/ColabNotebooks/tabula-18-Fsalary.csv',dtype={'Job_title':str,'annual_inc':'int64'})\n",
        "# The two different data sets from the same loan firm:\n",
        "loans = pd.read_csv('/content/drive/Shared drives/csci191t-project/ColabNotebooks/loan.csv') \n",
        "data4 = pd.read_csv('/content/drive/Shared drives/csci191t-project/ColabNotebooks/loanD.csv') \n"
      ],
      "execution_count": null,
      "outputs": [
        {
          "output_type": "stream",
          "text": [
            "/usr/local/lib/python3.6/dist-packages/IPython/core/interactiveshell.py:2718: DtypeWarning: Columns (19,55) have mixed types.Specify dtype option on import or set low_memory=False.\n",
            "  interactivity=interactivity, compiler=compiler, result=result)\n",
            "/usr/local/lib/python3.6/dist-packages/IPython/core/interactiveshell.py:2718: DtypeWarning: Columns (19,47,55,112,123,124,125,128,129,130,133,139,140,141) have mixed types.Specify dtype option on import or set low_memory=False.\n",
            "  interactivity=interactivity, compiler=compiler, result=result)\n"
          ],
          "name": "stderr"
        }
      ]
    },
    {
      "cell_type": "code",
      "metadata": {
        "id": "kylwPwbu1S0x"
      },
      "source": [
        "# 2016 and 2017 CoF payroll data\n",
        "#Sheets formatted already for dtypes\n",
        "CoF16 = pd.read_csv('/content/drive/Shared drives/csci191t-project/ColabNotebooks/Employee-Gross-Wages2016.csv')\n",
        "CoF17 = pd.read_csv('/content/drive/Shared drives/csci191t-project/ColabNotebooks/Employee-Gross-Wages2017.csv')"
      ],
      "execution_count": null,
      "outputs": []
    },
    {
      "cell_type": "code",
      "metadata": {
        "id": "2A30iYGK1kQT"
      },
      "source": [
        "a,b,c = CoF16.annual_inc.mean(),CoF17.annual_inc.mean(),CoF.annual_inc.mean()"
      ],
      "execution_count": null,
      "outputs": []
    },
    {
      "cell_type": "code",
      "metadata": {
        "id": "2tbLiErt5RMU",
        "colab": {
          "base_uri": "https://localhost:8080/",
          "height": 313
        },
        "outputId": "1a197d50-79b9-4ab0-b526-7ef365345bce"
      },
      "source": [
        "# Some visualizations of raw data\n",
        "plt.title(\"Mean income over 3 years\")\n",
        "plt.ylabel(\"Annual Income\")\n",
        "plt.xlabel(\"Payroll Years\")\n",
        "plt.plot(['2016','2017','2018'],[a,b,c])"
      ],
      "execution_count": 7,
      "outputs": [
        {
          "output_type": "execute_result",
          "data": {
            "text/plain": [
              "[<matplotlib.lines.Line2D at 0x7f4b73a71160>]"
            ]
          },
          "metadata": {
            "tags": []
          },
          "execution_count": 7
        },
        {
          "output_type": "display_data",
          "data": {
            "image/png": "[encoded data removed]",
            "text/plain": [
              "<Figure size 432x288 with 1 Axes>"
            ]
          },
          "metadata": {
            "tags": [],
            "needs_background": "light"
          }
        }
      ]
    },
    {
      "cell_type": "code",
      "metadata": {
        "id": "JHQGrzdtttaM"
      },
      "source": [
        "# Both loan firm datasets must used to form one larger dataset \n",
        "# All columns must match names to correctly train model\n",
        "# No remaining NaNs after cleaning/altering\n",
        "# Notes:\n",
        "# CoF data needs columns: 'funded_amnt','installment','int_rate','dti','delinq_2yrs','loan_status'\n",
        "# funded_amnt will be done in sequences to display \n",
        "data1 = data4[['annual_inc','funded_amnt','installment','int_rate','dti','delinq_2yrs','loan_status']]\n",
        "data = loans[['annual_inc','funded_amnt','installment','int_rate','dti','delinq_2yrs','loan_status']]\n",
        "# The MAIN dataframe for training:\n",
        "double = pd.merge(data1,data,how='outer')\n"
      ],
      "execution_count": 9,
      "outputs": []
    },
    {
      "cell_type": "code",
      "metadata": {
        "id": "JNzN5rHntCi5"
      },
      "source": [
        "# 'loan_status' shows whether or not a person defaulted or payed it off completely\n",
        "# Change loanstatus values to number\n",
        "#   0 charged off\n",
        "#   1 Fully Paid\n",
        "def statclean(x):\n",
        "    if (x == 'Charged Off'): return 0\n",
        "    elif (x == 'Fully Paid'):return 1\n",
        "    elif (x.startswith('Fully', 40)): return 1\n",
        "    elif (x.startswith('Charged', 40)): return 0\n",
        "# drops NaNs from df\n",
        "# Because statclean() can not be executed over NaNs\n",
        "double = double.dropna() \n",
        "\n",
        "\n"
      ],
      "execution_count": 10,
      "outputs": []
    },
    {
      "cell_type": "code",
      "metadata": {
        "id": "rWC53l3PKvKr"
      },
      "source": [
        "# Change string values to integer values (listed in statClean() def)\n",
        "double.loan_status = double.loan_status.apply(statclean)\n",
        "# Because statclean() leaves NaNs for some cases that dont match\n",
        "double = double.dropna() \n",
        "#print(double[\"delinq_2yrs\"].max())\n",
        "#print(double[\"delinq_2yrs\"].min())\n",
        "#double.groupby('loan_status').size()"
      ],
      "execution_count": 11,
      "outputs": []
    },
    {
      "cell_type": "code",
      "metadata": {
        "id": "8x1P1gR8Jorr",
        "colab": {
          "base_uri": "https://localhost:8080/",
          "height": 297
        },
        "outputId": "8d490d17-3bbb-4122-e734-3d5327a15876"
      },
      "source": [
        "a = double[double['annual_inc'] < 30000]\n",
        "a = a[a['annual_inc']>1000]\n",
        "a.describe()"
      ],
      "execution_count": null,
      "outputs": [
        {
          "output_type": "execute_result",
          "data": {
            "text/html": [
              "<div>\n",
              "<style scoped>\n",
              "    .dataframe tbody tr th:only-of-type {\n",
              "        vertical-align: middle;\n",
              "    }\n",
              "\n",
              "    .dataframe tbody tr th {\n",
              "        vertical-align: top;\n",
              "    }\n",
              "\n",
              "    .dataframe thead th {\n",
              "        text-align: right;\n",
              "    }\n",
              "</style>\n",
              "<table border=\"1\" class=\"dataframe\">\n",
              "  <thead>\n",
              "    <tr style=\"text-align: right;\">\n",
              "      <th></th>\n",
              "      <th>annual_inc</th>\n",
              "      <th>funded_amnt</th>\n",
              "      <th>installment</th>\n",
              "      <th>int_rate</th>\n",
              "      <th>dti</th>\n",
              "      <th>delinq_2yrs</th>\n",
              "      <th>loan_status</th>\n",
              "    </tr>\n",
              "  </thead>\n",
              "  <tbody>\n",
              "    <tr>\n",
              "      <th>count</th>\n",
              "      <td>75788.000000</td>\n",
              "      <td>75788.000000</td>\n",
              "      <td>75788.000000</td>\n",
              "      <td>75788.000000</td>\n",
              "      <td>75788.000000</td>\n",
              "      <td>75788.000000</td>\n",
              "      <td>75788.000000</td>\n",
              "    </tr>\n",
              "    <tr>\n",
              "      <th>mean</th>\n",
              "      <td>22896.970000</td>\n",
              "      <td>6633.197538</td>\n",
              "      <td>220.103568</td>\n",
              "      <td>14.294131</td>\n",
              "      <td>21.797897</td>\n",
              "      <td>0.177548</td>\n",
              "      <td>0.753879</td>\n",
              "    </tr>\n",
              "    <tr>\n",
              "      <th>std</th>\n",
              "      <td>4959.063873</td>\n",
              "      <td>3939.166059</td>\n",
              "      <td>122.510074</td>\n",
              "      <td>4.363657</td>\n",
              "      <td>22.185997</td>\n",
              "      <td>0.644526</td>\n",
              "      <td>0.430753</td>\n",
              "    </tr>\n",
              "    <tr>\n",
              "      <th>min</th>\n",
              "      <td>1008.000000</td>\n",
              "      <td>500.000000</td>\n",
              "      <td>15.670000</td>\n",
              "      <td>5.310000</td>\n",
              "      <td>0.000000</td>\n",
              "      <td>0.000000</td>\n",
              "      <td>0.000000</td>\n",
              "    </tr>\n",
              "    <tr>\n",
              "      <th>25%</th>\n",
              "      <td>20000.000000</td>\n",
              "      <td>4000.000000</td>\n",
              "      <td>141.110000</td>\n",
              "      <td>11.470000</td>\n",
              "      <td>12.800000</td>\n",
              "      <td>0.000000</td>\n",
              "      <td>1.000000</td>\n",
              "    </tr>\n",
              "    <tr>\n",
              "      <th>50%</th>\n",
              "      <td>24000.000000</td>\n",
              "      <td>6000.000000</td>\n",
              "      <td>203.590000</td>\n",
              "      <td>13.980000</td>\n",
              "      <td>20.210000</td>\n",
              "      <td>0.000000</td>\n",
              "      <td>1.000000</td>\n",
              "    </tr>\n",
              "    <tr>\n",
              "      <th>75%</th>\n",
              "      <td>26880.000000</td>\n",
              "      <td>8450.000000</td>\n",
              "      <td>283.380000</td>\n",
              "      <td>16.990000</td>\n",
              "      <td>27.622500</td>\n",
              "      <td>0.000000</td>\n",
              "      <td>1.000000</td>\n",
              "    </tr>\n",
              "    <tr>\n",
              "      <th>max</th>\n",
              "      <td>29999.000000</td>\n",
              "      <td>40000.000000</td>\n",
              "      <td>1566.800000</td>\n",
              "      <td>30.990000</td>\n",
              "      <td>999.000000</td>\n",
              "      <td>39.000000</td>\n",
              "      <td>1.000000</td>\n",
              "    </tr>\n",
              "  </tbody>\n",
              "</table>\n",
              "</div>"
            ],
            "text/plain": [
              "         annual_inc   funded_amnt  ...   delinq_2yrs   loan_status\n",
              "count  75788.000000  75788.000000  ...  75788.000000  75788.000000\n",
              "mean   22896.970000   6633.197538  ...      0.177548      0.753879\n",
              "std     4959.063873   3939.166059  ...      0.644526      0.430753\n",
              "min     1008.000000    500.000000  ...      0.000000      0.000000\n",
              "25%    20000.000000   4000.000000  ...      0.000000      1.000000\n",
              "50%    24000.000000   6000.000000  ...      0.000000      1.000000\n",
              "75%    26880.000000   8450.000000  ...      0.000000      1.000000\n",
              "max    29999.000000  40000.000000  ...     39.000000      1.000000\n",
              "\n",
              "[8 rows x 7 columns]"
            ]
          },
          "metadata": {
            "tags": []
          },
          "execution_count": 12
        }
      ]
    },
    {
      "cell_type": "code",
      "metadata": {
        "id": "E4B2NAxSEHLO"
      },
      "source": [
        "# Adding missing columns to CoF:\n",
        "# Each loan group is a dataframe under the respective variables\n",
        "# Grouped by loan_amount: {1000, 5000 , 10000 , 200000 , 30000 } => {CoFX1, CoFX5, CoFX10, CoFX20,CoFX30}\n",
        "\n",
        "CoF['funded_amnt'] = np.nan \n",
        "CoF['installment'] = np.nan\n",
        "CoF['int_rate'] = np.nan\n",
        "CoF['dti'] = np.nan\n",
        "CoF['delinq_2yrs'] = np.nan\n",
        "CoF['loan_status'] = np.nan\n",
        "\n"
      ],
      "execution_count": 12,
      "outputs": []
    },
    {
      "cell_type": "code",
      "metadata": {
        "id": "yiEpYJAblTZX"
      },
      "source": [
        "# Begin  Loan testing:\n",
        "# choose a group"
      ],
      "execution_count": null,
      "outputs": []
    },
    {
      "cell_type": "code",
      "metadata": {
        "id": "De9h9qIpsfEF"
      },
      "source": [
        "#Group 1\n",
        "CoF['funded_amnt'] = 1000\n",
        "CoFX = CoF[['annual_inc','funded_amnt']]\n",
        " #CoFX1.sample(5)"
      ],
      "execution_count": null,
      "outputs": []
    },
    {
      "cell_type": "code",
      "metadata": {
        "id": "ZOjgOl5HrNTE"
      },
      "source": [
        "#Group 2\n",
        "CoF['funded_amnt'] = 5000\n",
        "CoFX = CoF[['annual_inc','funded_amnt']]\n",
        " #CoFX2.sample(5)"
      ],
      "execution_count": null,
      "outputs": []
    },
    {
      "cell_type": "code",
      "metadata": {
        "id": "ykRZy7mfskWK"
      },
      "source": [
        "#Group 3\n",
        "CoF['funded_amnt'] = 40000\n",
        "CoFX = CoF[['annual_inc','funded_amnt']]\n",
        " #CoFX3.sample(5)"
      ],
      "execution_count": 13,
      "outputs": []
    },
    {
      "cell_type": "markdown",
      "metadata": {
        "id": "FAijB0Hjk3xa"
      },
      "source": [
        ""
      ]
    },
    {
      "cell_type": "code",
      "metadata": {
        "id": "FtR1ShkbuNzE",
        "colab": {
          "base_uri": "https://localhost:8080/"
        },
        "outputId": "b7974efd-8710-4f7b-8da4-cc9680b2ee00"
      },
      "source": [
        "# Begin Logistic Regression: \"CELL 1\"\n",
        "# Split the data \n",
        "from sklearn.model_selection import train_test_split\n",
        "X = double[['annual_inc','funded_amnt','installment','int_rate','dti','delinq_2yrs']]\n",
        "y = double['loan_status']\n",
        "x_trn, x_tst, y_trn, y_tst = train_test_split(X,y,test_size=.2)\n",
        "\n",
        "# make model  \"CELL 2\"\n",
        "from sklearn.linear_model import LogisticRegression\n",
        "logReg = LogisticRegression(max_iter=200)\n",
        "logReg.fit(x_trn,y_trn)\n",
        "\n",
        "# Stats on predictor model:    \"CELL 3\"\n",
        "predict = logReg.predict(x_tst)\n",
        "score = logReg.score(x_tst,y_tst)\n",
        "print(\"accuracy: \",100*score)"
      ],
      "execution_count": 14,
      "outputs": [
        {
          "output_type": "stream",
          "text": [
            "accuracy:  79.94028136663796\n"
          ],
          "name": "stdout"
        }
      ]
    },
    {
      "cell_type": "code",
      "metadata": {
        "id": "DCNf8W_RxU7h",
        "colab": {
          "base_uri": "https://localhost:8080/"
        },
        "outputId": "aee7628c-c858-4cbd-ee38-801c9b799719"
      },
      "source": [
        "#Create Linear regression model,\n",
        "# we train this model in order to populate the missing \n",
        "# variables needed in the employee payroll data set\n",
        "########################\n",
        "# uses annual income and funded_amnt to try and predict: installment, int_rate, dti, delinq_2yrs\n",
        "from sklearn.linear_model import LinearRegression\n",
        "LinR= LinearRegression(fit_intercept=True,normalize=True)\n",
        "X = double[['annual_inc','funded_amnt']]#['annual_inc'].values.reshape(-1,1)\n",
        "y = double[['installment','int_rate','dti','delinq_2yrs']]\n",
        "x_trn, x_tst,y_trn,y_tst = train_test_split(X,y,test_size=.4) \n",
        "LinR.fit(x_trn,y_trn)\n",
        "\n",
        "# linear regressor stats\n",
        "predict1= LinR.predict(x_tst)\n",
        "score = LinR.score(x_tst,y_tst)\n",
        "print(\"accuracy: \",100*score) # Currently >90% accuracy"
      ],
      "execution_count": 15,
      "outputs": [
        {
          "output_type": "stream",
          "text": [
            "accuracy:  90.87888931082439\n"
          ],
          "name": "stdout"
        },
        {
          "output_type": "stream",
          "text": [
            "/usr/local/lib/python3.6/dist-packages/sklearn/base.py:434: FutureWarning: The default value of multioutput (not exposed in score method) will change from 'variance_weighted' to 'uniform_average' in 0.23 to keep consistent with 'metrics.r2_score'. To specify the default value manually and avoid the warning, please either call 'metrics.r2_score' directly or make a custom scorer with 'metrics.make_scorer' (the built-in scorer 'r2' uses multioutput='uniform_average').\n",
            "  \"multioutput='uniform_average').\", FutureWarning)\n"
          ],
          "name": "stderr"
        }
      ]
    },
    {
      "cell_type": "code",
      "metadata": {
        "id": "MLxalTpLlanx"
      },
      "source": [
        "# Run Linear regressor\n",
        "# Creating values for missing CoF variables:\n",
        "X1Val = LinR.predict(CoFX[['annual_inc','funded_amnt']])\n",
        "\n",
        "#Load missing dataframe values into CoF\n",
        "col_names = ['installment','int_rate','dti','delinq_2yrs']\n",
        "for i in range(len(X1Val)):\n",
        "  for j in range(0,4):\n",
        "    CoF.at[i,col_names[j]]=X1Val[i][j]"
      ],
      "execution_count": 16,
      "outputs": []
    },
    {
      "cell_type": "code",
      "metadata": {
        "colab": {
          "base_uri": "https://localhost:8080/",
          "height": 520
        },
        "id": "jR2SkGK5hnNc",
        "outputId": "16e1888e-ffbd-460a-d21c-e83608ba668f"
      },
      "source": [
        "double.head(15)"
      ],
      "execution_count": 21,
      "outputs": [
        {
          "output_type": "execute_result",
          "data": {
            "text/html": [
              "<div>\n",
              "<style scoped>\n",
              "    .dataframe tbody tr th:only-of-type {\n",
              "        vertical-align: middle;\n",
              "    }\n",
              "\n",
              "    .dataframe tbody tr th {\n",
              "        vertical-align: top;\n",
              "    }\n",
              "\n",
              "    .dataframe thead th {\n",
              "        text-align: right;\n",
              "    }\n",
              "</style>\n",
              "<table border=\"1\" class=\"dataframe\">\n",
              "  <thead>\n",
              "    <tr style=\"text-align: right;\">\n",
              "      <th></th>\n",
              "      <th>annual_inc</th>\n",
              "      <th>funded_amnt</th>\n",
              "      <th>installment</th>\n",
              "      <th>int_rate</th>\n",
              "      <th>dti</th>\n",
              "      <th>delinq_2yrs</th>\n",
              "      <th>loan_status</th>\n",
              "    </tr>\n",
              "  </thead>\n",
              "  <tbody>\n",
              "    <tr>\n",
              "      <th>100</th>\n",
              "      <td>100000.0</td>\n",
              "      <td>30000</td>\n",
              "      <td>1151.16</td>\n",
              "      <td>22.35</td>\n",
              "      <td>30.46</td>\n",
              "      <td>0.0</td>\n",
              "      <td>1.0</td>\n",
              "    </tr>\n",
              "    <tr>\n",
              "      <th>152</th>\n",
              "      <td>45000.0</td>\n",
              "      <td>40000</td>\n",
              "      <td>975.71</td>\n",
              "      <td>16.14</td>\n",
              "      <td>50.53</td>\n",
              "      <td>0.0</td>\n",
              "      <td>1.0</td>\n",
              "    </tr>\n",
              "    <tr>\n",
              "      <th>170</th>\n",
              "      <td>100000.0</td>\n",
              "      <td>20000</td>\n",
              "      <td>622.68</td>\n",
              "      <td>7.56</td>\n",
              "      <td>18.92</td>\n",
              "      <td>0.0</td>\n",
              "      <td>1.0</td>\n",
              "    </tr>\n",
              "    <tr>\n",
              "      <th>186</th>\n",
              "      <td>38500.0</td>\n",
              "      <td>4500</td>\n",
              "      <td>147.99</td>\n",
              "      <td>11.31</td>\n",
              "      <td>4.64</td>\n",
              "      <td>0.0</td>\n",
              "      <td>1.0</td>\n",
              "    </tr>\n",
              "    <tr>\n",
              "      <th>215</th>\n",
              "      <td>450000.0</td>\n",
              "      <td>8425</td>\n",
              "      <td>345.18</td>\n",
              "      <td>27.27</td>\n",
              "      <td>12.37</td>\n",
              "      <td>0.0</td>\n",
              "      <td>1.0</td>\n",
              "    </tr>\n",
              "    <tr>\n",
              "      <th>269</th>\n",
              "      <td>57000.0</td>\n",
              "      <td>20000</td>\n",
              "      <td>507.55</td>\n",
              "      <td>17.97</td>\n",
              "      <td>22.18</td>\n",
              "      <td>0.0</td>\n",
              "      <td>1.0</td>\n",
              "    </tr>\n",
              "    <tr>\n",
              "      <th>271</th>\n",
              "      <td>45000.0</td>\n",
              "      <td>6600</td>\n",
              "      <td>217.05</td>\n",
              "      <td>11.31</td>\n",
              "      <td>16.21</td>\n",
              "      <td>0.0</td>\n",
              "      <td>1.0</td>\n",
              "    </tr>\n",
              "    <tr>\n",
              "      <th>296</th>\n",
              "      <td>42000.0</td>\n",
              "      <td>2500</td>\n",
              "      <td>84.92</td>\n",
              "      <td>13.56</td>\n",
              "      <td>15.09</td>\n",
              "      <td>0.0</td>\n",
              "      <td>1.0</td>\n",
              "    </tr>\n",
              "    <tr>\n",
              "      <th>369</th>\n",
              "      <td>60000.0</td>\n",
              "      <td>4000</td>\n",
              "      <td>144.55</td>\n",
              "      <td>17.97</td>\n",
              "      <td>19.10</td>\n",
              "      <td>0.0</td>\n",
              "      <td>1.0</td>\n",
              "    </tr>\n",
              "    <tr>\n",
              "      <th>379</th>\n",
              "      <td>24000.0</td>\n",
              "      <td>2700</td>\n",
              "      <td>84.85</td>\n",
              "      <td>8.19</td>\n",
              "      <td>24.95</td>\n",
              "      <td>0.0</td>\n",
              "      <td>1.0</td>\n",
              "    </tr>\n",
              "    <tr>\n",
              "      <th>402</th>\n",
              "      <td>60000.0</td>\n",
              "      <td>1000</td>\n",
              "      <td>38.92</td>\n",
              "      <td>23.40</td>\n",
              "      <td>20.78</td>\n",
              "      <td>0.0</td>\n",
              "      <td>1.0</td>\n",
              "    </tr>\n",
              "    <tr>\n",
              "      <th>412</th>\n",
              "      <td>200000.0</td>\n",
              "      <td>15000</td>\n",
              "      <td>467.01</td>\n",
              "      <td>7.56</td>\n",
              "      <td>2.62</td>\n",
              "      <td>0.0</td>\n",
              "      <td>1.0</td>\n",
              "    </tr>\n",
              "    <tr>\n",
              "      <th>445</th>\n",
              "      <td>250000.0</td>\n",
              "      <td>8000</td>\n",
              "      <td>249.08</td>\n",
              "      <td>7.56</td>\n",
              "      <td>20.10</td>\n",
              "      <td>0.0</td>\n",
              "      <td>1.0</td>\n",
              "    </tr>\n",
              "    <tr>\n",
              "      <th>510</th>\n",
              "      <td>98000.0</td>\n",
              "      <td>5000</td>\n",
              "      <td>155.67</td>\n",
              "      <td>7.56</td>\n",
              "      <td>14.78</td>\n",
              "      <td>0.0</td>\n",
              "      <td>1.0</td>\n",
              "    </tr>\n",
              "    <tr>\n",
              "      <th>576</th>\n",
              "      <td>55000.0</td>\n",
              "      <td>12950</td>\n",
              "      <td>403.19</td>\n",
              "      <td>7.56</td>\n",
              "      <td>19.88</td>\n",
              "      <td>0.0</td>\n",
              "      <td>1.0</td>\n",
              "    </tr>\n",
              "  </tbody>\n",
              "</table>\n",
              "</div>"
            ],
            "text/plain": [
              "     annual_inc  funded_amnt  installment  ...    dti  delinq_2yrs  loan_status\n",
              "100    100000.0        30000      1151.16  ...  30.46          0.0          1.0\n",
              "152     45000.0        40000       975.71  ...  50.53          0.0          1.0\n",
              "170    100000.0        20000       622.68  ...  18.92          0.0          1.0\n",
              "186     38500.0         4500       147.99  ...   4.64          0.0          1.0\n",
              "215    450000.0         8425       345.18  ...  12.37          0.0          1.0\n",
              "269     57000.0        20000       507.55  ...  22.18          0.0          1.0\n",
              "271     45000.0         6600       217.05  ...  16.21          0.0          1.0\n",
              "296     42000.0         2500        84.92  ...  15.09          0.0          1.0\n",
              "369     60000.0         4000       144.55  ...  19.10          0.0          1.0\n",
              "379     24000.0         2700        84.85  ...  24.95          0.0          1.0\n",
              "402     60000.0         1000        38.92  ...  20.78          0.0          1.0\n",
              "412    200000.0        15000       467.01  ...   2.62          0.0          1.0\n",
              "445    250000.0         8000       249.08  ...  20.10          0.0          1.0\n",
              "510     98000.0         5000       155.67  ...  14.78          0.0          1.0\n",
              "576     55000.0        12950       403.19  ...  19.88          0.0          1.0\n",
              "\n",
              "[15 rows x 7 columns]"
            ]
          },
          "metadata": {
            "tags": []
          },
          "execution_count": 21
        }
      ]
    },
    {
      "cell_type": "code",
      "metadata": {
        "colab": {
          "base_uri": "https://localhost:8080/",
          "height": 520
        },
        "id": "xRhtuLVQhZ92",
        "outputId": "c6cd36ea-7853-4ce0-9755-12ba34ec255c"
      },
      "source": [
        "CoF.head(15)"
      ],
      "execution_count": 20,
      "outputs": [
        {
          "output_type": "execute_result",
          "data": {
            "text/html": [
              "<div>\n",
              "<style scoped>\n",
              "    .dataframe tbody tr th:only-of-type {\n",
              "        vertical-align: middle;\n",
              "    }\n",
              "\n",
              "    .dataframe tbody tr th {\n",
              "        vertical-align: top;\n",
              "    }\n",
              "\n",
              "    .dataframe thead th {\n",
              "        text-align: right;\n",
              "    }\n",
              "</style>\n",
              "<table border=\"1\" class=\"dataframe\">\n",
              "  <thead>\n",
              "    <tr style=\"text-align: right;\">\n",
              "      <th></th>\n",
              "      <th>job_title</th>\n",
              "      <th>annual_inc</th>\n",
              "      <th>funded_amnt</th>\n",
              "      <th>installment</th>\n",
              "      <th>int_rate</th>\n",
              "      <th>dti</th>\n",
              "      <th>delinq_2yrs</th>\n",
              "      <th>loan_status</th>\n",
              "    </tr>\n",
              "  </thead>\n",
              "  <tbody>\n",
              "    <tr>\n",
              "      <th>0</th>\n",
              "      <td>Account Clerk II</td>\n",
              "      <td>2646</td>\n",
              "      <td>40000</td>\n",
              "      <td>1167.787271</td>\n",
              "      <td>16.535586</td>\n",
              "      <td>23.087223</td>\n",
              "      <td>0.229561</td>\n",
              "      <td>0.0</td>\n",
              "    </tr>\n",
              "    <tr>\n",
              "      <th>1</th>\n",
              "      <td>Account Clerk II</td>\n",
              "      <td>5845</td>\n",
              "      <td>40000</td>\n",
              "      <td>1167.856303</td>\n",
              "      <td>16.506449</td>\n",
              "      <td>22.999831</td>\n",
              "      <td>0.231437</td>\n",
              "      <td>0.0</td>\n",
              "    </tr>\n",
              "    <tr>\n",
              "      <th>2</th>\n",
              "      <td>Account Clerk II</td>\n",
              "      <td>31546</td>\n",
              "      <td>40000</td>\n",
              "      <td>1168.410910</td>\n",
              "      <td>16.272358</td>\n",
              "      <td>22.297717</td>\n",
              "      <td>0.246516</td>\n",
              "      <td>1.0</td>\n",
              "    </tr>\n",
              "    <tr>\n",
              "      <th>3</th>\n",
              "      <td>Account Clerk II</td>\n",
              "      <td>36670</td>\n",
              "      <td>40000</td>\n",
              "      <td>1168.521481</td>\n",
              "      <td>16.225687</td>\n",
              "      <td>22.157737</td>\n",
              "      <td>0.249522</td>\n",
              "      <td>1.0</td>\n",
              "    </tr>\n",
              "    <tr>\n",
              "      <th>4</th>\n",
              "      <td>Account Clerk II</td>\n",
              "      <td>38297</td>\n",
              "      <td>40000</td>\n",
              "      <td>1168.556591</td>\n",
              "      <td>16.210868</td>\n",
              "      <td>22.113290</td>\n",
              "      <td>0.250477</td>\n",
              "      <td>1.0</td>\n",
              "    </tr>\n",
              "    <tr>\n",
              "      <th>5</th>\n",
              "      <td>Account Clerk II</td>\n",
              "      <td>40716</td>\n",
              "      <td>40000</td>\n",
              "      <td>1168.608791</td>\n",
              "      <td>16.188835</td>\n",
              "      <td>22.047207</td>\n",
              "      <td>0.251896</td>\n",
              "      <td>1.0</td>\n",
              "    </tr>\n",
              "    <tr>\n",
              "      <th>6</th>\n",
              "      <td>Account Clerk II</td>\n",
              "      <td>42069</td>\n",
              "      <td>40000</td>\n",
              "      <td>1168.637987</td>\n",
              "      <td>16.176512</td>\n",
              "      <td>22.010245</td>\n",
              "      <td>0.252690</td>\n",
              "      <td>1.0</td>\n",
              "    </tr>\n",
              "    <tr>\n",
              "      <th>7</th>\n",
              "      <td>Accountant-Auditor I</td>\n",
              "      <td>27963</td>\n",
              "      <td>40000</td>\n",
              "      <td>1168.333591</td>\n",
              "      <td>16.304993</td>\n",
              "      <td>22.395600</td>\n",
              "      <td>0.244414</td>\n",
              "      <td>1.0</td>\n",
              "    </tr>\n",
              "    <tr>\n",
              "      <th>8</th>\n",
              "      <td>Accountant-Auditor I</td>\n",
              "      <td>44721</td>\n",
              "      <td>40000</td>\n",
              "      <td>1168.695215</td>\n",
              "      <td>16.152357</td>\n",
              "      <td>21.937796</td>\n",
              "      <td>0.254246</td>\n",
              "      <td>1.0</td>\n",
              "    </tr>\n",
              "    <tr>\n",
              "      <th>9</th>\n",
              "      <td>Accountant-Auditor I</td>\n",
              "      <td>50773</td>\n",
              "      <td>40000</td>\n",
              "      <td>1168.825812</td>\n",
              "      <td>16.097233</td>\n",
              "      <td>21.772464</td>\n",
              "      <td>0.257797</td>\n",
              "      <td>1.0</td>\n",
              "    </tr>\n",
              "    <tr>\n",
              "      <th>10</th>\n",
              "      <td>Accountant-Auditor II</td>\n",
              "      <td>40833</td>\n",
              "      <td>40000</td>\n",
              "      <td>1168.611315</td>\n",
              "      <td>16.187769</td>\n",
              "      <td>22.044010</td>\n",
              "      <td>0.251965</td>\n",
              "      <td>1.0</td>\n",
              "    </tr>\n",
              "    <tr>\n",
              "      <th>11</th>\n",
              "      <td>Accountant-Auditor II</td>\n",
              "      <td>44067</td>\n",
              "      <td>40000</td>\n",
              "      <td>1168.681102</td>\n",
              "      <td>16.158313</td>\n",
              "      <td>21.955662</td>\n",
              "      <td>0.253862</td>\n",
              "      <td>1.0</td>\n",
              "    </tr>\n",
              "    <tr>\n",
              "      <th>12</th>\n",
              "      <td>Accountant-Auditor II</td>\n",
              "      <td>47706</td>\n",
              "      <td>40000</td>\n",
              "      <td>1168.759629</td>\n",
              "      <td>16.125168</td>\n",
              "      <td>21.856250</td>\n",
              "      <td>0.255997</td>\n",
              "      <td>1.0</td>\n",
              "    </tr>\n",
              "    <tr>\n",
              "      <th>13</th>\n",
              "      <td>Accountant-Auditor II</td>\n",
              "      <td>51229</td>\n",
              "      <td>40000</td>\n",
              "      <td>1168.835652</td>\n",
              "      <td>16.093080</td>\n",
              "      <td>21.760007</td>\n",
              "      <td>0.258064</td>\n",
              "      <td>1.0</td>\n",
              "    </tr>\n",
              "    <tr>\n",
              "      <th>14</th>\n",
              "      <td>Accountant-Auditor II</td>\n",
              "      <td>52801</td>\n",
              "      <td>40000</td>\n",
              "      <td>1168.869575</td>\n",
              "      <td>16.078762</td>\n",
              "      <td>21.717062</td>\n",
              "      <td>0.258987</td>\n",
              "      <td>1.0</td>\n",
              "    </tr>\n",
              "  </tbody>\n",
              "</table>\n",
              "</div>"
            ],
            "text/plain": [
              "                job_title  annual_inc  ...  delinq_2yrs  loan_status\n",
              "0        Account Clerk II        2646  ...     0.229561          0.0\n",
              "1        Account Clerk II        5845  ...     0.231437          0.0\n",
              "2        Account Clerk II       31546  ...     0.246516          1.0\n",
              "3        Account Clerk II       36670  ...     0.249522          1.0\n",
              "4        Account Clerk II       38297  ...     0.250477          1.0\n",
              "5        Account Clerk II       40716  ...     0.251896          1.0\n",
              "6        Account Clerk II       42069  ...     0.252690          1.0\n",
              "7    Accountant-Auditor I       27963  ...     0.244414          1.0\n",
              "8    Accountant-Auditor I       44721  ...     0.254246          1.0\n",
              "9    Accountant-Auditor I       50773  ...     0.257797          1.0\n",
              "10  Accountant-Auditor II       40833  ...     0.251965          1.0\n",
              "11  Accountant-Auditor II       44067  ...     0.253862          1.0\n",
              "12  Accountant-Auditor II       47706  ...     0.255997          1.0\n",
              "13  Accountant-Auditor II       51229  ...     0.258064          1.0\n",
              "14  Accountant-Auditor II       52801  ...     0.258987          1.0\n",
              "\n",
              "[15 rows x 8 columns]"
            ]
          },
          "metadata": {
            "tags": []
          },
          "execution_count": 20
        }
      ]
    },
    {
      "cell_type": "code",
      "metadata": {
        "id": "NvCODqmX9Ivd"
      },
      "source": [
        "#Run Logistic prediction model on newly filled CoF dataframe\n",
        "# Log(CoF):\n",
        "X1loanX = CoF[['annual_inc','funded_amnt','installment','int_rate','dti','delinq_2yrs']]\n",
        "X1LoanY = logReg.predict(X1loanX)\n",
        "\n",
        "# Write predictions into CoF\n",
        "for i in range(len(X1LoanY)):\n",
        "  CoF.at[i,'loan_status'] = X1LoanY[i]"
      ],
      "execution_count": 17,
      "outputs": []
    },
    {
      "cell_type": "code",
      "metadata": {
        "id": "QbFbrHfYUs7p",
        "colab": {
          "base_uri": "https://localhost:8080/",
          "height": 682
        },
        "outputId": "4b752e45-a025-41f1-bbd8-b0443f2b801a"
      },
      "source": [
        "CoF[['annual_inc','delinq_2yrs','dti','installment','int_rate','loan_status']].hist(figsize=(10,9),color='magenta')"
      ],
      "execution_count": 22,
      "outputs": [
        {
          "output_type": "execute_result",
          "data": {
            "text/plain": [
              "array([[<matplotlib.axes._subplots.AxesSubplot object at 0x7f4b6826e6a0>,\n",
              "        <matplotlib.axes._subplots.AxesSubplot object at 0x7f4b682967b8>],\n",
              "       [<matplotlib.axes._subplots.AxesSubplot object at 0x7f4b6823ca20>,\n",
              "        <matplotlib.axes._subplots.AxesSubplot object at 0x7f4b681e4c88>],\n",
              "       [<matplotlib.axes._subplots.AxesSubplot object at 0x7f4b6820cef0>,\n",
              "        <matplotlib.axes._subplots.AxesSubplot object at 0x7f4b681ba198>]],\n",
              "      dtype=object)"
            ]
          },
          "metadata": {
            "tags": []
          },
          "execution_count": 22
        },
        {
          "output_type": "display_data",
          "data": {
            "image/png": "[encoded data removed]",
            "text/plain": [
              "<Figure size 720x648 with 6 Axes>"
            ]
          },
          "metadata": {
            "tags": [],
            "needs_background": "light"
          }
        }
      ]
    },
    {
      "cell_type": "code",
      "metadata": {
        "id": "QNAa9xKKlRI4",
        "colab": {
          "base_uri": "https://localhost:8080/",
          "height": 335
        },
        "outputId": "e61405d1-24db-4222-8b3f-b148a16b8148"
      },
      "source": [
        "# sns.scatterplot(hue='loan_status',x= 'annual_inc',y='dti',data=CoF)\n",
        "sns.regplot(x='annual_inc',y='loan_status',data=CoF,scatter=True, lowess=True)"
      ],
      "execution_count": 23,
      "outputs": [
        {
          "output_type": "stream",
          "text": [
            "/usr/local/lib/python3.6/dist-packages/statsmodels/tools/_testing.py:19: FutureWarning: pandas.util.testing is deprecated. Use the functions in the public API at pandas.testing instead.\n",
            "  import pandas.util.testing as tm\n"
          ],
          "name": "stderr"
        },
        {
          "output_type": "execute_result",
          "data": {
            "text/plain": [
              "<matplotlib.axes._subplots.AxesSubplot at 0x7f4b6809a160>"
            ]
          },
          "metadata": {
            "tags": []
          },
          "execution_count": 23
        },
        {
          "output_type": "display_data",
          "data": {
            "image/png": "[encoded data removed]",
            "text/plain": [
              "<Figure size 432x288 with 1 Axes>"
            ]
          },
          "metadata": {
            "tags": [],
            "needs_background": "light"
          }
        }
      ]
    },
    {
      "cell_type": "code",
      "metadata": {
        "id": "Izm39b-Z2P7X",
        "colab": {
          "base_uri": "https://localhost:8080/",
          "height": 283
        },
        "outputId": "0dd9e25f-0908-4445-86eb-3c409368c613"
      },
      "source": [
        "a =CoF[CoF.loan_status == 0]\n",
        "a.annual_inc.describe()\n",
        "x= a.job_title.value_counts().keys()[:5]\n",
        "y=a.job_title.value_counts().values[:5]\n",
        "sns.barplot(x= a.job_title.value_counts().keys()[:7],y=a.job_title.value_counts().values[:7],data=a)"
      ],
      "execution_count": 24,
      "outputs": [
        {
          "output_type": "execute_result",
          "data": {
            "text/plain": [
              "<matplotlib.axes._subplots.AxesSubplot at 0x7f4b67d96c18>"
            ]
          },
          "metadata": {
            "tags": []
          },
          "execution_count": 24
        },
        {
          "output_type": "display_data",
          "data": {
            "image/png": "[encoded data removed]",
            "text/plain": [
              "<Figure size 432x288 with 1 Axes>"
            ]
          },
          "metadata": {
            "tags": [],
            "needs_background": "light"
          }
        }
      ]
    },
    {
      "cell_type": "code",
      "metadata": {
        "id": "2sdWxlSEJ75n",
        "colab": {
          "base_uri": "https://localhost:8080/",
          "height": 313
        },
        "outputId": "99db80eb-4138-4b76-f829-d1426d2306f4"
      },
      "source": [
        "plt.title(\"Loan repayment based on loan amount 40k\")\n",
        "sns.boxplot(y= 'annual_inc',x='loan_status',data = CoF,hue='loan_status')\n",
        "plt.ylabel(\"Annual income\")\n",
        "plt.xlabel(\"Loan repayment\")"
      ],
      "execution_count": 27,
      "outputs": [
        {
          "output_type": "execute_result",
          "data": {
            "text/plain": [
              "Text(0.5, 0, 'Loan repayment')"
            ]
          },
          "metadata": {
            "tags": []
          },
          "execution_count": 27
        },
        {
          "output_type": "display_data",
          "data": {
            "image/png": "[encoded data removed]",
            "text/plain": [
              "<Figure size 432x288 with 1 Axes>"
            ]
          },
          "metadata": {
            "tags": [],
            "needs_background": "light"
          }
        }
      ]
    },
    {
      "cell_type": "code",
      "metadata": {
        "id": "TgsX-LppLLyX",
        "colab": {
          "base_uri": "https://localhost:8080/",
          "height": 298
        },
        "outputId": "e27cff03-40e4-4be1-ec47-e85f0a2c5cb5"
      },
      "source": [
        "sns.distplot(CoF.loan_status)"
      ],
      "execution_count": null,
      "outputs": [
        {
          "output_type": "execute_result",
          "data": {
            "text/plain": [
              "<matplotlib.axes._subplots.AxesSubplot at 0x7fcfb76a45c0>"
            ]
          },
          "metadata": {
            "tags": []
          },
          "execution_count": 135
        },
        {
          "output_type": "display_data",
          "data": {
            "image/png": "[encoded data removed]",
            "text/plain": [
              "<Figure size 432x288 with 1 Axes>"
            ]
          },
          "metadata": {
            "tags": [],
            "needs_background": "light"
          }
        }
      ]
    },
    {
      "cell_type": "code",
      "metadata": {
        "id": "Xap0Q7HYIVzf"
      },
      "source": [
        ""
      ],
      "execution_count": null,
      "outputs": []
    },
    {
      "cell_type": "code",
      "metadata": {
        "id": "c56Om83jHxQL",
        "colab": {
          "base_uri": "https://localhost:8080/",
          "height": 89
        },
        "outputId": "f4200891-7d5f-428b-b374-44afbd9413db"
      },
      "source": [
        "# sns.scatterplot(x='annual_inc',y='')\n",
        "CoFG = CoF.groupby('loan_status').size()\n",
        "CoFG\n",
        "# sns.boxplot(x= 'loan_status',y='annual_inc',data=CoFG)"
      ],
      "execution_count": null,
      "outputs": [
        {
          "output_type": "execute_result",
          "data": {
            "text/plain": [
              "loan_status\n",
              "0.0     950\n",
              "1.0    3330\n",
              "dtype: int64"
            ]
          },
          "metadata": {
            "tags": []
          },
          "execution_count": 136
        }
      ]
    },
    {
      "cell_type": "code",
      "metadata": {
        "id": "ERRzSqNSNXmt",
        "colab": {
          "base_uri": "https://localhost:8080/",
          "height": 231
        },
        "outputId": "0ec09ed2-a2b8-47ac-e8c2-201a65bafe9d"
      },
      "source": [
        "# Plotting and Figures:                               #FOR POWERPOINT\n",
        "\n",
        "a_ag = a.agg({'loan_status':'count','annual_inc':['mean'],'funded_amnt':'mean'})\n",
        "a_ag\n",
        "# \n",
        "double['funded_amnt'].value_counts().head(10).plot(kind='barh')\n",
        "plt.ylabel(\"loan amount\")\n",
        "plt.xlabel(\"occurences\")\n",
        "#\n",
        "double['loan_status'].value_counts().head(30).plot(kind='pie')\n",
        "#\n",
        "CoF['job_title'].value_counts().head(30).plot(kind='barh', figsize=(20,10))\n",
        "# sns.distplot(CoF.annual_inc,kde=True)\n",
        "# sns.regplot(y='dti',x='loan_status',data = double)\n",
        "# CoF = CoF[CoF['annual_inc']>=1000]\n",
        "# CoF.count()\n",
        "# plt.figure(figsize=(20,5))\n",
        "# sns.relplot(y='job_title',x='annual_inc',data=CoF,height=4,aspect=1)\n",
        "\n",
        "# Top 10 Occupations\n",
        "# Police Officer -\n",
        "# Services Aide -\n",
        "# Bus Driver  -\n",
        "# Police Sergeant -\n",
        "# Lifeguard -\n",
        "# Firefighter Specialist  -\n",
        "# Laborer -\n",
        "# Firefighter\n",
        "# Fire Captain\n",
        "# # Sanitation Operator\n",
        "a = CoF[CoF['job_title']=='Police Officer']\n",
        "b = CoF[CoF['job_title']=='Lifeguard']\n",
        "c = CoF[CoF['job_title']=='Services Aide']\n",
        "d = CoF[CoF['job_title']=='Police Sergeant']\n",
        "e = CoF[CoF['job_title']=='Bus Driver']\n",
        "f = CoF[CoF['job_title'] == 'Firefighter Specialist']\n",
        "g = CoF[CoF['job_title']=='Laborer']\n",
        "h = CoF[CoF['job_title'] == 'Firefighter Specialist']\n",
        "i = CoF[CoF['job_title'] == 'Sanitation Operator']\n",
        "#  x = CoF[CoF['annual_inc']<=80000]\n",
        "#  y = CoF[CoF['annual_inc'] >= 60000]\n",
        "a = pd.merge(a,b,how='outer')\n",
        "a = pd.merge(a,c,how='outer')\n",
        "a = pd.merge(a,d,how='outer')\n",
        "a = pd.merge(a,e,how='outer')\n",
        "a = pd.merge(a,f,how='outer')\n",
        "a = pd.merge(a,g,how='outer')\n",
        "a = pd.merge(a,h,how='outer')\n",
        "a = pd.merge(a,i,how='outer')\n",
        "# a.job_title.value_counts()\n",
        "bb = a.groupby(['job_title'])\n",
        "b_ag = bb.agg({'annual_inc':'mean'})\n",
        "b_ag\n",
        "plt.figure(figsize=(15,4))\n",
        "sns.barplot(x='job_title',y='annual_inc',data=b_ag.reset_index())\n",
        "plt.ylabel('Mean Income')\n",
        "\n",
        "# # a.describe()\n",
        "# # a.job_title.value_counts()\n",
        "# # x = a[a['annual_inc'] < 70000]\n",
        "# # y = a[a['annual_inc'] > 40000]\n",
        "# # a = pd.merge(x,y,how='inner')\n",
        "\n",
        "# # sns.scatterplot(y='job_title',x='annual_inc',data = a)\n",
        "\n",
        "# #  a = a[a['job_title']=='Police Officer']\n",
        "# sns.barplot(y= 'job_title',x='annual_inc',data = a,hue='job_title')\n"
      ],
      "execution_count": null,
      "outputs": [
        {
          "output_type": "error",
          "ename": "NameError",
          "evalue": "ignored",
          "traceback": [
            "\u001b[0;31m---------------------------------------------------------------------------\u001b[0m",
            "\u001b[0;31mNameError\u001b[0m                                 Traceback (most recent call last)",
            "\u001b[0;32m<ipython-input-21-f3ea2a35aac3>\u001b[0m in \u001b[0;36m<module>\u001b[0;34m()\u001b[0m\n\u001b[1;32m      1\u001b[0m \u001b[0;34m\u001b[0m\u001b[0m\n\u001b[0;32m----> 2\u001b[0;31m \u001b[0ma_ag\u001b[0m \u001b[0;34m=\u001b[0m \u001b[0ma\u001b[0m\u001b[0;34m.\u001b[0m\u001b[0magg\u001b[0m\u001b[0;34m(\u001b[0m\u001b[0;34m{\u001b[0m\u001b[0;34m'loan_status'\u001b[0m\u001b[0;34m:\u001b[0m\u001b[0;34m'count'\u001b[0m\u001b[0;34m,\u001b[0m\u001b[0;34m'annual_inc'\u001b[0m\u001b[0;34m:\u001b[0m\u001b[0;34m[\u001b[0m\u001b[0;34m'mean'\u001b[0m\u001b[0;34m]\u001b[0m\u001b[0;34m,\u001b[0m\u001b[0;34m'funded_amnt'\u001b[0m\u001b[0;34m:\u001b[0m\u001b[0;34m'mean'\u001b[0m\u001b[0;34m}\u001b[0m\u001b[0;34m)\u001b[0m\u001b[0;34m\u001b[0m\u001b[0;34m\u001b[0m\u001b[0m\n\u001b[0m\u001b[1;32m      3\u001b[0m \u001b[0ma_ag\u001b[0m\u001b[0;34m\u001b[0m\u001b[0;34m\u001b[0m\u001b[0m\n\u001b[1;32m      4\u001b[0m \u001b[0;31m#\u001b[0m\u001b[0;34m\u001b[0m\u001b[0;34m\u001b[0m\u001b[0;34m\u001b[0m\u001b[0m\n\u001b[1;32m      5\u001b[0m \u001b[0mdouble\u001b[0m\u001b[0;34m[\u001b[0m\u001b[0;34m'funded_amnt'\u001b[0m\u001b[0;34m]\u001b[0m\u001b[0;34m.\u001b[0m\u001b[0mvalue_counts\u001b[0m\u001b[0;34m(\u001b[0m\u001b[0;34m)\u001b[0m\u001b[0;34m.\u001b[0m\u001b[0mhead\u001b[0m\u001b[0;34m(\u001b[0m\u001b[0;36m10\u001b[0m\u001b[0;34m)\u001b[0m\u001b[0;34m.\u001b[0m\u001b[0mplot\u001b[0m\u001b[0;34m(\u001b[0m\u001b[0mkind\u001b[0m\u001b[0;34m=\u001b[0m\u001b[0;34m'barh'\u001b[0m\u001b[0;34m)\u001b[0m\u001b[0;34m\u001b[0m\u001b[0;34m\u001b[0m\u001b[0m\n",
            "\u001b[0;31mNameError\u001b[0m: name 'a' is not defined"
          ]
        }
      ]
    },
    {
      "cell_type": "code",
      "metadata": {
        "id": "ge8RnEDGM3zt"
      },
      "source": [
        "# The first \n",
        "# testG = CoF.groupby(['job_title','loan_status'])\n",
        "# testG = CoF[(CoF.job_title == 'Police Officer')|\n",
        "#             (CoF.job_title == 'Firefighter')|\n",
        "#             (CoF.job_title == 'Services Aide')|\n",
        "#             (CoF.job_title == 'Police Sergeant')|\n",
        "#             (CoF.job_title == 'Bus Driver')|\n",
        "#             (CoF.job_title == 'Laborer')|\n",
        "#             (CoF.job_title == 'Firefighter Specialist')|\n",
        "#             (CoF.job_title == 'Sanitation Operator')|\n",
        "#             (CoF.job_title == 'Lifegaurd')\n",
        "#             ]\n",
        "# testG = CoF[(CoF.loan_status == 0) & (CoF.annual_inc >=10000) & (CoF.annual_inc < 30000)]\n",
        "# sns.scatterplot(x = '',y = 'loan_status',data=testG)\n",
        "# plt.pie(testG.loan_status)\n",
        "# testG.job_title.value_counts().values[:5]\n",
        "# testG = testG.groupby(['job_title','loan_status'])#.agg(lambda x:x.value_counts().index[0])\n",
        "# testG = testG[testG.job_title =='Accounting Technician']\n",
        "# testagg = testG.agg({'job_title':'count','annual_inc': 'mean', 'int_rate':'mean','installment':'mean'})\n",
        "# testagg\n",
        "# sns.barplot(x = 'job_title',y = 'loan_status',data=testG)\n",
        "# testG.sample()\n",
        "# sns.scatterplot(y='annual_inc',x= 'loan_status',data=testG)\n",
        "# sns.distplot(testG.annual_inc)\n"
      ],
      "execution_count": null,
      "outputs": []
    },
    {
      "cell_type": "code",
      "metadata": {
        "id": "WdEW4KVscvC1",
        "colab": {
          "base_uri": "https://localhost:8080/",
          "height": 245
        },
        "outputId": "eefdea4b-b946-4dd1-c773-fb51ea2d43aa"
      },
      "source": [
        "\n",
        "plt.hist(CoFG,100)\n",
        "plt.xlabel('loan_status')\n",
        "plt.ylabel('Frequency')\n",
        "plt.title('loan_status')\n",
        "plt.show()"
      ],
      "execution_count": null,
      "outputs": [
        {
          "output_type": "error",
          "ename": "NameError",
          "evalue": "ignored",
          "traceback": [
            "\u001b[0;31m---------------------------------------------------------------------------\u001b[0m",
            "\u001b[0;31mNameError\u001b[0m                                 Traceback (most recent call last)",
            "\u001b[0;32m<ipython-input-6-526355123b85>\u001b[0m in \u001b[0;36m<module>\u001b[0;34m()\u001b[0m\n\u001b[1;32m      1\u001b[0m \u001b[0;34m\u001b[0m\u001b[0m\n\u001b[0;32m----> 2\u001b[0;31m \u001b[0mplt\u001b[0m\u001b[0;34m.\u001b[0m\u001b[0mhist\u001b[0m\u001b[0;34m(\u001b[0m\u001b[0mCoFG\u001b[0m\u001b[0;34m,\u001b[0m \u001b[0;36m100\u001b[0m\u001b[0;34m)\u001b[0m\u001b[0;34m\u001b[0m\u001b[0;34m\u001b[0m\u001b[0m\n\u001b[0m\u001b[1;32m      3\u001b[0m \u001b[0mplt\u001b[0m\u001b[0;34m.\u001b[0m\u001b[0mxlabel\u001b[0m\u001b[0;34m(\u001b[0m\u001b[0;34m'loan_status'\u001b[0m\u001b[0;34m)\u001b[0m\u001b[0;34m\u001b[0m\u001b[0;34m\u001b[0m\u001b[0m\n\u001b[1;32m      4\u001b[0m \u001b[0mplt\u001b[0m\u001b[0;34m.\u001b[0m\u001b[0mylabel\u001b[0m\u001b[0;34m(\u001b[0m\u001b[0;34m'Frequency'\u001b[0m\u001b[0;34m)\u001b[0m\u001b[0;34m\u001b[0m\u001b[0;34m\u001b[0m\u001b[0m\n\u001b[1;32m      5\u001b[0m \u001b[0mplt\u001b[0m\u001b[0;34m.\u001b[0m\u001b[0mtitle\u001b[0m\u001b[0;34m(\u001b[0m\u001b[0;34m'Heights Of Male Students'\u001b[0m\u001b[0;34m)\u001b[0m\u001b[0;34m\u001b[0m\u001b[0;34m\u001b[0m\u001b[0m\n",
            "\u001b[0;31mNameError\u001b[0m: name 'plt' is not defined"
          ]
        }
      ]
    }
  ]
}